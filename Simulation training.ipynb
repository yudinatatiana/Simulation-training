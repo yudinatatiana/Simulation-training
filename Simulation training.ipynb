{
 "cells": [
  {
   "cell_type": "markdown",
   "metadata": {},
   "source": [
    "# Имитационное обучение"
   ]
  },
  {
   "cell_type": "markdown",
   "metadata": {},
   "source": [
    "Импортируем все необходимое:"
   ]
  },
  {
   "cell_type": "code",
   "execution_count": 1,
   "metadata": {},
   "outputs": [
    {
     "name": "stdout",
     "output_type": "stream",
     "text": [
      "TensorFlow version : 1.12.0\n",
      "Gym version : 0.10.5\n"
     ]
    },
    {
     "name": "stderr",
     "output_type": "stream",
     "text": [
      "Using TensorFlow backend.\n"
     ]
    }
   ],
   "source": [
    "import os\n",
    "import pickle\n",
    "import tensorflow as tf\n",
    "print(\"TensorFlow version :\",tf.__version__)\n",
    "\n",
    "import numpy as np\n",
    "import tf_util\n",
    "import gym\n",
    "print(\"Gym version :\",gym.__version__)\n",
    "\n",
    "import glfw\n",
    "import load_policy\n",
    "\n",
    "from keras.models import Sequential\n",
    "from keras.layers import Dense\n",
    "import matplotlib.pyplot as plt\n",
    "%matplotlib inline"
   ]
  },
  {
   "cell_type": "markdown",
   "metadata": {},
   "source": [
    "## Собираем статистику"
   ]
  },
  {
   "cell_type": "markdown",
   "metadata": {},
   "source": [
    " Генерируем статистику (roll-outs) по заданной экспертной стратегии в 3 шага:\n",
    " 1. Загружаем стратегию из файла и инициализируем окружение.\n",
    " 2. Начинаем сессию tensorflow.\n",
    " 3. В рамках сессии собираем данные: до конца эпизода в цикле выбираем экспертное действие, применяем его и сохраняем результаты."
   ]
  },
  {
   "cell_type": "code",
   "execution_count": 2,
   "metadata": {},
   "outputs": [
    {
     "name": "stdout",
     "output_type": "stream",
     "text": [
      "loading and building expert policy\n",
      "obs (1, 376) (1, 376)\n",
      "loaded and built\n",
      "\u001b[33mWARN: gym.spaces.Box autodetected dtype as <class 'numpy.float32'>. Please provide explicit dtype.\u001b[0m\n",
      "\u001b[33mWARN: gym.spaces.Box autodetected dtype as <class 'numpy.float32'>. Please provide explicit dtype.\u001b[0m\n"
     ]
    }
   ],
   "source": [
    "#Выбираем среду (Выбранную среду необходимо раскомментировать)\n",
    "env_name=\"Humanoid-v2\"\n",
    "#env_name=\"Ant-v2\"\n",
    "#env_name=\"HalfCheetah-v2\"\n",
    "#env_name=\"Hopper-v2\"\n",
    "#env_name=\"Reacher-v2\"\n",
    "#env_name=\"Walker2d-v2\"\n",
    "\n",
    "#Выберите файл стратегии эксперта из файла эксперта\n",
    "expert_policy_file=\"experts/\"+env_name+\".pkl\"\n",
    "\n",
    "#Загрузка файла стратегии\n",
    "print('loading and building expert policy')\n",
    "policy_fn = load_policy.load_policy(expert_policy_file)\n",
    "print('loaded and built')\n",
    "\n",
    "#Создание среды\n",
    "env = gym.make(env_name)\n",
    "\n",
    "#Функция для генерации стратегии\n",
    "def generate_rollouts(num_rollouts,max_steps,render=False):\n",
    "    \n",
    "    #Инициализация tensoflow сессии\n",
    "    with tf.Session():\n",
    "        tf_util.initialize()\n",
    "\n",
    "        # Определение массивов\n",
    "        returns = []\n",
    "        observations = []\n",
    "        actions = []\n",
    "\n",
    "        #Цикл сбора данных \n",
    "        for i in range(num_rollouts):\n",
    "            \n",
    "            #Параметры до начальных значений\n",
    "            obs = env.reset()\n",
    "            done = False\n",
    "            totalr = 0.\n",
    "            steps = 0\n",
    "            #Цикл выполняется до конца эпизода\n",
    "            while not done:\n",
    "                #Выбрать действие в зависимости от наблюдения\n",
    "                action = policy_fn(obs[None,:])\n",
    "                #Добавить образец в массивы\n",
    "                observations.append(obs)\n",
    "                actions.append(action)\n",
    "                #Применить действие к окружающей среде\n",
    "                obs, r, done, _ = env.step(action)\n",
    "                #Рассчитать общее вознаграждение\n",
    "                totalr += r\n",
    "                steps += 1\n",
    "                #Обновить среду\n",
    "                if render==True:\n",
    "                    env.render()\n",
    "                if steps >= max_steps:\n",
    "                    break\n",
    "            #Добавить общее вознаграждение\n",
    "            returns.append(totalr)\n",
    "\n",
    "        print('mean return', np.mean(returns))\n",
    "        print('std of return', np.std(returns))\n",
    "\n",
    "        expert_data = {'observations': np.array(observations),'actions': np.array(actions)}\n",
    "            \n",
    "        return expert_data"
   ]
  },
  {
   "cell_type": "markdown",
   "metadata": {},
   "source": [
    "Тестируем реализованную функцию: num_rollouts=4,max_steps=100,render=True"
   ]
  },
  {
   "cell_type": "code",
   "execution_count": 3,
   "metadata": {},
   "outputs": [
    {
     "name": "stdout",
     "output_type": "stream",
     "text": [
      "WARNING:tensorflow:From /home/tanya/p_35/tf_util.py:91: all_variables (from tensorflow.python.ops.variables) is deprecated and will be removed after 2017-03-02.\n",
      "Instructions for updating:\n",
      "Please use tf.global_variables instead.\n",
      "WARNING:tensorflow:From /home/tanya/p_35/lib64/python3.5/site-packages/tensorflow/python/util/tf_should_use.py:189: initialize_variables (from tensorflow.python.ops.variables) is deprecated and will be removed after 2017-03-02.\n",
      "Instructions for updating:\n",
      "Use `tf.variables_initializer` instead.\n",
      "Creating window glfw\n",
      "mean return 639.5091842358678\n",
      "std of return 3.68423231570653\n"
     ]
    }
   ],
   "source": [
    "generate_rollouts(num_rollouts=4,max_steps=100,render=True);"
   ]
  },
  {
   "cell_type": "markdown",
   "metadata": {},
   "source": [
    "## Клонирование поведения"
   ]
  },
  {
   "cell_type": "markdown",
   "metadata": {},
   "source": [
    "Клонирование поведения (Behavioural cloning, BC) - метод, с помощью когорого компьютерная программа обучается воспроизводить действия эксперта (человека). Действия эксперта записываются, а затем эта статистика используется как входные данные для алгоритма обучения. Этот алгоритм в результате формирует последовательность действий, по которым воспроизводится поведение эксперта."
   ]
  },
  {
   "cell_type": "markdown",
   "metadata": {},
   "source": [
    "Будем использовать стандартное обучение с учителем и использовать нейронную сеть для этого."
   ]
  },
  {
   "cell_type": "code",
   "execution_count": 3,
   "metadata": {},
   "outputs": [],
   "source": [
    "from sklearn.utils import shuffle\n",
    "\n",
    "class BC_Model(object):\n",
    "    def __init__(self, input_data, output_data, batch_size = 64):\n",
    "        \n",
    "        #Определить tensorflow сессию\n",
    "        self.sess = tf.Session()\n",
    "        #Входные и выходные данные\n",
    "        self.batch_size = batch_size\n",
    "        self.input_data = input_data\n",
    "        self.output_data = np.reshape(output_data, (output_data.shape[0], output_data.shape[2]))\n",
    "        self.input_shape = [self.batch_size, self.input_data.shape[-1]]\n",
    "        self.output_shape = [self.batch_size, self.output_data.shape[-1]]\n",
    "        \n",
    "        self.input_placeholder = tf.placeholder(tf.float32, shape = self.input_shape)\n",
    "        self.output_placeholder_expert = tf.placeholder(tf.float32, shape = self.output_shape)\n",
    "        self.output_placeholder_model = self.build_model(self.input_placeholder)\n",
    "        \n",
    "        #Функция потерь l2_loss\n",
    "        self.loss = self.l2(self.output_placeholder_model, self.output_placeholder_expert)\n",
    "    \n",
    "    def l2(self, x, y):\n",
    "        return np.sum((x-y)**2)\n",
    "\n",
    "    def build_model(self, input_placeholder):\n",
    "        model = Sequential()\n",
    "        model.add(Dense(256, activation='relu', input_shape=tuple((self.input_shape[-1],))))\n",
    "        model.add(Dense(128, activation='relu'))\n",
    "        model.add(Dense(128, activation='relu'))\n",
    "        model.add(Dense(self.output_data.shape[-1], activation='linear'))\n",
    "        return model(input_placeholder)\n",
    "\n",
    "    def train(self, epochs = 20, train_data = None, test_data = None):\n",
    "        if train_data is None and test_data is None :\n",
    "            train_data, test_data = shuffle(self.input_data, self.output_data, random_state = 0)\n",
    "        else:\n",
    "            test_data = np.reshape(test_data, (test_data.shape[0], test_data.shape[2]))\n",
    "        \n",
    "        #Использование Adam-оптимизации\n",
    "        optimizer = tf.train.AdamOptimizer().minimize(self.loss)\n",
    "        saver = tf.train.Saver()\n",
    "        batch_idxs = len(train_data) // self.batch_size\n",
    "        writer = tf.summary.FileWriter(\"exp\")\n",
    "        \n",
    "        #Добавление графа\n",
    "        writer.add_graph(self.sess.graph)\n",
    "\n",
    "        #Инициализировать переменные нейронной сети\n",
    "        init_op = tf.global_variables_initializer()\n",
    "        self.sess.run(init_op)\n",
    "\n",
    "        for epoch in range(epochs):\n",
    "            for idx in range(batch_idxs):\n",
    "                batch_train = train_data[idx * self.batch_size : (idx + 1) * self.batch_size]\n",
    "                batch_value = test_data[idx * self.batch_size : (idx + 1) * self.batch_size]\n",
    "                feed_train = {self.input_placeholder : batch_train, self.output_placeholder_expert : batch_value}\n",
    "                self.sess.run(optimizer, feed_dict = feed_train)\n",
    "                    \n",
    "        saver.save(self.sess, \"exp\" + \"/behavior_cloning_model\")\n",
    "\n",
    "    def sample(self, input):\n",
    "        output = self.sess.run(self.output_placeholder_model, feed_dict = {self.input_placeholder : np.repeat(input[None, :], self.batch_size, axis = 0)})\n",
    "        return output[0]"
   ]
  },
  {
   "cell_type": "markdown",
   "metadata": {},
   "source": [
    "### Обучение модели на экспертных данных"
   ]
  },
  {
   "cell_type": "code",
   "execution_count": 5,
   "metadata": {},
   "outputs": [
    {
     "name": "stdout",
     "output_type": "stream",
     "text": [
      "mean return 642.6444943685649\n",
      "std of return 7.53860367371028\n",
      "dimension of obs : (2000, 376)\n",
      "dimension of actions : (2000, 1, 17)\n"
     ]
    }
   ],
   "source": [
    "#Генерация экспертных данных\n",
    "data=generate_rollouts(num_rollouts=20,max_steps=100,render=False);\n",
    "x = data['observations']\n",
    "y = data['actions']\n",
    "print ('dimension of obs :', x.shape)\n",
    "print('dimension of actions :', y.shape)\n",
    "\n",
    "#Перемешать данные\n",
    "x,y = shuffle(x,y)\n",
    "\n",
    "#Создать объект класса BC_Model и обучить его\n",
    "cloner=BC_Model(x,y)\n",
    "cloner.train()"
   ]
  },
  {
   "cell_type": "markdown",
   "metadata": {},
   "source": [
    "### Испытание модели"
   ]
  },
  {
   "cell_type": "code",
   "execution_count": 6,
   "metadata": {},
   "outputs": [
    {
     "name": "stdout",
     "output_type": "stream",
     "text": [
      "mean return 326.7962488742931\n",
      "std of return 80.28861343519509\n"
     ]
    }
   ],
   "source": [
    "num_eval_rollouts=20\n",
    "returns=[]\n",
    "for i in range(num_eval_rollouts):\n",
    "    totalr=0\n",
    "    done=False\n",
    "    obs=env.reset()\n",
    "    while not done:\n",
    "        action=cloner.sample(obs)\n",
    "        obs,r,done,_=env.step(action)\n",
    "        env.render()\n",
    "        totalr+=r\n",
    "    returns.append(totalr)\n",
    "print('mean return', np.mean(returns))\n",
    "print('std of return', np.std(returns))"
   ]
  },
  {
   "cell_type": "code",
   "execution_count": 7,
   "metadata": {},
   "outputs": [
    {
     "name": "stdout",
     "output_type": "stream",
     "text": [
      "loading and building expert policy\n",
      "obs (1, 11) (1, 11)\n",
      "loaded and built\n",
      "\u001b[33mWARN: gym.spaces.Box autodetected dtype as <class 'numpy.float32'>. Please provide explicit dtype.\u001b[0m\n",
      "\u001b[33mWARN: gym.spaces.Box autodetected dtype as <class 'numpy.float32'>. Please provide explicit dtype.\u001b[0m\n",
      "mean return 227.75584479518176\n",
      "std of return 0.504133616016094\n",
      "Creating window glfw\n",
      "mean return 261.97433812158505\n",
      "std of return 9.488507787350443\n",
      "mean return 227.78325448043483\n",
      "std of return 0.5263067986090697\n",
      "mean return 367.9958955963668\n",
      "std of return 4.563288191704574\n",
      "mean return 227.91925296592726\n",
      "std of return 0.5548439664310881\n",
      "mean return 330.971616613419\n",
      "std of return 37.87455515421677\n",
      "mean return 228.00867956076007\n",
      "std of return 0.5033848802910548\n",
      "mean return 450.36774905417025\n",
      "std of return 28.206122346369764\n",
      "mean return 227.92777872764705\n",
      "std of return 0.5247574875413059\n",
      "mean return 395.2457847357145\n",
      "std of return 3.598154241511892\n"
     ]
    },
    {
     "data": {
      "text/plain": [
       "Text(0.5, 1.0, 'Зависисмость отдачи от количества набранной статистики в окружении Hopper-v2')"
      ]
     },
     "execution_count": 7,
     "metadata": {},
     "output_type": "execute_result"
    },
    {
     "data": {
      "image/png": "[encoded data removed]",
      "text/plain": [
       "<Figure size 432x288 with 1 Axes>"
      ]
     },
     "metadata": {
      "needs_background": "light"
     },
     "output_type": "display_data"
    }
   ],
   "source": [
    "#Модель №1. Окружение \"Hopper-v2\"\n",
    "\n",
    "#Выбираем среду (Выбранную среду необходимо раскомментировать)\n",
    "#env_name=\"Humanoid-v2\"\n",
    "#env_name=\"Ant-v2\"\n",
    "#env_name=\"HalfCheetah-v2\"\n",
    "env_name=\"Hopper-v2\"\n",
    "#env_name=\"Reacher-v2\"\n",
    "#env_name=\"Walker2d-v2\"  \n",
    "\n",
    "#Выберите файл стратегии эксперта из файла эксперта\n",
    "expert_policy_file=\"experts/\"+env_name+\".pkl\"\n",
    "\n",
    "#Загрузка файла стратегии\n",
    "print('loading and building expert policy')\n",
    "policy_fn = load_policy.load_policy(expert_policy_file)\n",
    "print('loaded and built')\n",
    "\n",
    "#Создание среды\n",
    "env = gym.make(env_name)\n",
    "\n",
    "#Инициализация списков для последующего построения графика\n",
    "list_of_totalr = list()\n",
    "list_of_num_rollouts = [20, 40, 80, 160, 320]\n",
    "\n",
    "#Обучение модели на экспертных данных в цикле \n",
    "for num in list_of_num_rollouts:\n",
    "    \n",
    "    data=generate_rollouts(num_rollouts=num,max_steps=100,render=False);\n",
    "    x = data['observations']\n",
    "    y = data['actions']\n",
    "    \n",
    "    x,y = shuffle(x,y)\n",
    "\n",
    "    cloner=BC_Model(x,y)\n",
    "    cloner.train()\n",
    "    \n",
    "    #Испытываю модель         \n",
    "    num_eval_rollouts=20\n",
    "    returns=[]\n",
    "    for i in range(num_eval_rollouts):\n",
    "        totalr=0\n",
    "        done=False\n",
    "        obs=env.reset()\n",
    "        while not done:\n",
    "            action=cloner.sample(obs)\n",
    "            obs,r,done,_=env.step(action)\n",
    "            env.render()\n",
    "            totalr+=r\n",
    "        returns.append(totalr)\n",
    "    list_of_totalr.append(np.mean(returns))\n",
    "    print('mean return', np.mean(returns))\n",
    "    print('std of return', np.std(returns))\n",
    "\n",
    "plt.plot(list_of_num_rollouts, list_of_totalr)\n",
    "plt.title('Зависисмость отдачи от количества набранной статистики в окружении Hopper-v2')"
   ]
  },
  {
   "cell_type": "code",
   "execution_count": 8,
   "metadata": {},
   "outputs": [
    {
     "name": "stdout",
     "output_type": "stream",
     "text": [
      "loading and building expert policy\n",
      "obs (1, 11) (1, 11)\n",
      "loaded and built\n",
      "\u001b[33mWARN: gym.spaces.Box autodetected dtype as <class 'numpy.float32'>. Please provide explicit dtype.\u001b[0m\n",
      "\u001b[33mWARN: gym.spaces.Box autodetected dtype as <class 'numpy.float32'>. Please provide explicit dtype.\u001b[0m\n",
      "mean return -3.8775434163353624\n",
      "std of return 1.7169441805879633\n",
      "Creating window glfw\n",
      "mean return -6.746476624592132\n",
      "std of return 1.8831939972710143\n",
      "mean return -3.9601151431549027\n",
      "std of return 1.8633175109405182\n",
      "mean return -5.510407577035061\n",
      "std of return 2.620085845885988\n",
      "mean return -3.857354079022227\n",
      "std of return 1.8443191467950564\n",
      "mean return -4.778464894575228\n",
      "std of return 2.099324235965638\n",
      "mean return -3.875874308281529\n",
      "std of return 1.6750186763677157\n",
      "mean return -4.706925699323689\n",
      "std of return 1.5740346068810034\n",
      "mean return -3.917128794429807\n",
      "std of return 1.6951976947050893\n",
      "mean return -4.625761662804409\n",
      "std of return 2.2491670798133776\n"
     ]
    },
    {
     "data": {
      "text/plain": [
       "Text(0.5, 1.0, 'Зависисмость отдачи от количества набранной статистики в окружении Reacher-v2')"
      ]
     },
     "execution_count": 8,
     "metadata": {},
     "output_type": "execute_result"
    },
    {
     "data": {
      "image/png": "[encoded data removed]",
      "text/plain": [
       "<Figure size 432x288 with 1 Axes>"
      ]
     },
     "metadata": {
      "needs_background": "light"
     },
     "output_type": "display_data"
    }
   ],
   "source": [
    "#Модель №2. Окружение \"Reacher-v2\"\n",
    "\n",
    "#Выбираем среду (Выбранную среду необходимо раскомментировать)\n",
    "#env_name=\"Humanoid-v2\"\n",
    "#env_name=\"Ant-v2\"\n",
    "#env_name=\"HalfCheetah-v2\"\n",
    "#env_name=\"Hopper-v2\"\n",
    "env_name=\"Reacher-v2\"\n",
    "#env_name=\"Walker2d-v2\"  \n",
    "\n",
    "#Выберите файл стратегии эксперта из файла эксперта\n",
    "expert_policy_file=\"experts/\"+env_name+\".pkl\"\n",
    "\n",
    "#Загрузка файла стратегии\n",
    "print('loading and building expert policy')\n",
    "policy_fn = load_policy.load_policy(expert_policy_file)\n",
    "print('loaded and built')\n",
    "\n",
    "#Создание среды\n",
    "env = gym.make(env_name)\n",
    "\n",
    "#Инициализация списков для последующего построения графика\n",
    "list_of_totalr = list()\n",
    "list_of_num_rollouts = [20, 40, 80, 160, 320]\n",
    "\n",
    "#Обучение модели на экспертных данных в цикле \n",
    "for num in list_of_num_rollouts:\n",
    "    \n",
    "    data=generate_rollouts(num_rollouts=num,max_steps=100,render=False);\n",
    "    x = data['observations']\n",
    "    y = data['actions']\n",
    "\n",
    "    x,y = shuffle(x,y)\n",
    "\n",
    "    cloner=BC_Model(x,y)\n",
    "    cloner.train()\n",
    "    \n",
    "    #Испытываю модель         \n",
    "    num_eval_rollouts=20\n",
    "    returns=[]\n",
    "    for i in range(num_eval_rollouts):\n",
    "        totalr=0\n",
    "        done=False\n",
    "        obs=env.reset()\n",
    "        while not done:\n",
    "            action=cloner.sample(obs)\n",
    "            obs,r,done,_=env.step(action)\n",
    "            env.render()\n",
    "            totalr+=r\n",
    "        returns.append(totalr)\n",
    "    list_of_totalr.append(np.mean(returns))\n",
    "    print('mean return', np.mean(returns))\n",
    "    print('std of return', np.std(returns))\n",
    "\n",
    "plt.plot(list_of_num_rollouts, list_of_totalr)\n",
    "plt.title('Зависисмость отдачи от количества набранной статистики в окружении Reacher-v2')"
   ]
  },
  {
   "cell_type": "code",
   "execution_count": 9,
   "metadata": {},
   "outputs": [
    {
     "name": "stdout",
     "output_type": "stream",
     "text": [
      "loading and building expert policy\n",
      "obs (1, 17) (1, 17)\n",
      "loaded and built\n",
      "\u001b[33mWARN: gym.spaces.Box autodetected dtype as <class 'numpy.float32'>. Please provide explicit dtype.\u001b[0m\n",
      "\u001b[33mWARN: gym.spaces.Box autodetected dtype as <class 'numpy.float32'>. Please provide explicit dtype.\u001b[0m\n",
      "mean return 221.54915459472545\n",
      "std of return 1.3244276203015404\n",
      "Creating window glfw\n",
      "mean return 431.201913234149\n",
      "std of return 173.78540715517596\n",
      "mean return 221.78446944110487\n",
      "std of return 1.531028634493151\n",
      "mean return 443.65941495321357\n",
      "std of return 178.43074273526923\n",
      "mean return 221.3745219036461\n",
      "std of return 1.338778332273129\n",
      "mean return 478.8860081594231\n",
      "std of return 75.54128225382513\n",
      "mean return 221.40469803358206\n",
      "std of return 1.3136262934754985\n",
      "mean return 458.24457817126665\n",
      "std of return 97.5390341496016\n",
      "mean return 221.3061048152233\n",
      "std of return 1.403001251477303\n",
      "mean return 427.7289446912572\n",
      "std of return 29.489026164958503\n"
     ]
    },
    {
     "data": {
      "text/plain": [
       "Text(0.5, 1.0, 'Зависисмость отдачи от количества набранной статистики в окружении Walker2d-v2')"
      ]
     },
     "execution_count": 9,
     "metadata": {},
     "output_type": "execute_result"
    },
    {
     "data": {
      "image/png": "[encoded data removed]",
      "text/plain": [
       "<Figure size 432x288 with 1 Axes>"
      ]
     },
     "metadata": {
      "needs_background": "light"
     },
     "output_type": "display_data"
    }
   ],
   "source": [
    "#Модель №3. Окружение \"Walker2d-v2\"\n",
    "\n",
    "#Выбираем среду (Выбранную среду необходимо раскомментировать)\n",
    "#env_name=\"Humanoid-v2\"\n",
    "#env_name=\"Ant-v2\"\n",
    "#env_name=\"HalfCheetah-v2\"\n",
    "#env_name=\"Hopper-v2\"\n",
    "#env_name=\"Reacher-v2\"\n",
    "env_name=\"Walker2d-v2\"  \n",
    "\n",
    "#Выберите файл стратегии эксперта из файла эксперта\n",
    "expert_policy_file=\"experts/\"+env_name+\".pkl\"\n",
    "\n",
    "#Загрузка файла стратегии\n",
    "print('loading and building expert policy')\n",
    "policy_fn = load_policy.load_policy(expert_policy_file)\n",
    "print('loaded and built')\n",
    "\n",
    "#Создание среды\n",
    "env = gym.make(env_name)\n",
    "\n",
    "#Инициализация списков для последующего построения графика\n",
    "list_of_totalr = list()\n",
    "list_of_num_rollouts = [20, 40, 80, 160, 320]\n",
    "\n",
    "#Обучение модели на экспертных данных в цикле \n",
    "for num in list_of_num_rollouts:\n",
    "    \n",
    "    data=generate_rollouts(num_rollouts=num,max_steps=100,render=False);\n",
    "    x = data['observations']\n",
    "    y = data['actions']\n",
    "\n",
    "    x,y = shuffle(x,y)\n",
    "\n",
    "    cloner=BC_Model(x,y)\n",
    "    cloner.train()\n",
    "    \n",
    "    #Испытываю модель         \n",
    "    num_eval_rollouts=20\n",
    "    returns=[]\n",
    "    for i in range(num_eval_rollouts):\n",
    "        totalr=0\n",
    "        done=False\n",
    "        obs=env.reset()\n",
    "        while not done:\n",
    "            action=cloner.sample(obs)\n",
    "            obs,r,done,_=env.step(action)\n",
    "            env.render()\n",
    "            totalr+=r\n",
    "        returns.append(totalr)\n",
    "    list_of_totalr.append(np.mean(returns))\n",
    "    print('mean return', np.mean(returns))\n",
    "    print('std of return', np.std(returns))\n",
    "\n",
    "plt.plot(list_of_num_rollouts, list_of_totalr)\n",
    "plt.title('Зависисмость отдачи от количества набранной статистики в окружении Walker2d-v2')"
   ]
  },
  {
   "cell_type": "code",
   "execution_count": 10,
   "metadata": {},
   "outputs": [
    {
     "name": "stdout",
     "output_type": "stream",
     "text": [
      "loading and building expert policy\n",
      "obs (1, 17) (1, 17)\n",
      "loaded and built\n",
      "\u001b[33mWARN: gym.spaces.Box autodetected dtype as <class 'numpy.float32'>. Please provide explicit dtype.\u001b[0m\n",
      "\u001b[33mWARN: gym.spaces.Box autodetected dtype as <class 'numpy.float32'>. Please provide explicit dtype.\u001b[0m\n",
      "mean return 221.4511210753129\n",
      "std of return 1.5249015295120518\n",
      "Creating window glfw\n",
      "mean return 250.59334860245386\n",
      "std of return 163.12645863099897\n",
      "mean return 221.8483593967713\n",
      "std of return 1.2412615061614536\n",
      "mean return 160.5934853083716\n",
      "std of return 105.33922809828958\n",
      "mean return 221.822946357608\n",
      "std of return 1.312818346280113\n",
      "mean return 559.2511888564874\n",
      "std of return 57.16397566843682\n",
      "mean return 221.54061741454763\n",
      "std of return 1.4111708321001348\n",
      "mean return 338.061574660657\n",
      "std of return 23.951734742522067\n",
      "mean return 221.40186216396404\n",
      "std of return 1.4789316124140692\n",
      "mean return 462.2248559884383\n",
      "std of return 14.195283970378599\n"
     ]
    },
    {
     "data": {
      "text/plain": [
       "Text(0.5, 1.0, 'Зависисмость отдачи от количества эпох в окружении Walker2d-v2')"
      ]
     },
     "execution_count": 10,
     "metadata": {},
     "output_type": "execute_result"
    },
    {
     "data": {
      "image/png": "[encoded data removed]",
      "text/plain": [
       "<Figure size 432x288 with 1 Axes>"
      ]
     },
     "metadata": {
      "needs_background": "light"
     },
     "output_type": "display_data"
    }
   ],
   "source": [
    "#Выбрана модель №3, строю зависимость от количества эпох\n",
    "\n",
    "#Выбираем среду (Выбранную среду необходимо раскомментировать)\n",
    "#env_name=\"Humanoid-v2\"\n",
    "#env_name=\"Ant-v2\"\n",
    "#env_name=\"HalfCheetah-v2\"\n",
    "#env_name=\"Hopper-v2\"\n",
    "#env_name=\"Reacher-v2\"\n",
    "env_name=\"Walker2d-v2\"  \n",
    "\n",
    "#Выберите файл стратегии эксперта из файла эксперта\n",
    "expert_policy_file=\"experts/\"+env_name+\".pkl\"\n",
    "\n",
    "#Загрузка файла стратегии\n",
    "print('loading and building expert policy')\n",
    "policy_fn = load_policy.load_policy(expert_policy_file)\n",
    "print('loaded and built')\n",
    "\n",
    "#Создание среды\n",
    "env = gym.make(env_name)\n",
    "\n",
    "#Инициализация списков для последующего построения графика\n",
    "list_of_totalr = list()\n",
    "list_of_epochs = [20, 40, 80, 160, 320]\n",
    "\n",
    "#Обучение модели на экспертных данных в цикле \n",
    "for epoch in list_of_epochs:\n",
    "    \n",
    "    data=generate_rollouts(num_rollouts=20,max_steps=100,render=False);\n",
    "    x = data['observations']\n",
    "    y = data['actions']\n",
    "\n",
    "    x,y = shuffle(x,y)\n",
    "\n",
    "    cloner=BC_Model(x,y)\n",
    "    cloner.train(epochs=epoch)\n",
    "    \n",
    "    #Испытываю модель         \n",
    "    num_eval_rollouts=20\n",
    "    returns=[]\n",
    "    for i in range(num_eval_rollouts):\n",
    "        totalr=0\n",
    "        done=False\n",
    "        obs=env.reset()\n",
    "        while not done:\n",
    "            action=cloner.sample(obs)\n",
    "            obs,r,done,_=env.step(action)\n",
    "            env.render()\n",
    "            totalr+=r\n",
    "        returns.append(totalr)\n",
    "    list_of_totalr.append(np.mean(returns))\n",
    "    print('mean return', np.mean(returns))\n",
    "    print('std of return', np.std(returns))\n",
    "\n",
    "plt.plot(list_of_epochs, list_of_totalr)\n",
    "plt.title('Зависисмость отдачи от количества эпох в окружении Walker2d-v2')"
   ]
  },
  {
   "cell_type": "markdown",
   "metadata": {},
   "source": [
    "## DAgger Algorithm"
   ]
  },
  {
   "cell_type": "markdown",
   "metadata": {},
   "source": [
    "Цель алгоритма DAgger (data Aggregation) - собрать статистику обучаемой модели, вместо экспертных данных. \n",
    "- Вначале мы тренируем BC_Model на собранных экспертных данных.\n",
    "- Запускаем модель на окружениие, собираем наблюдения.\n",
    "- Затем мы просим эксперта (человека) отметить, какие действия нужно совершать в полученных наблюдениях (по сути используем __policy_fn__).\n",
    "- Создаем новую коллекцию помеченных и экспертных данных.\n",
    "- Потворяем."
   ]
  },
  {
   "cell_type": "code",
   "execution_count": 11,
   "metadata": {},
   "outputs": [
    {
     "name": "stdout",
     "output_type": "stream",
     "text": [
      "obs (1, 376) (1, 376)\n",
      "\u001b[33mWARN: gym.spaces.Box autodetected dtype as <class 'numpy.float32'>. Please provide explicit dtype.\u001b[0m\n",
      "\u001b[33mWARN: gym.spaces.Box autodetected dtype as <class 'numpy.float32'>. Please provide explicit dtype.\u001b[0m\n",
      "mean return 641.0063478393429\n",
      "std of return 12.393762720752813\n"
     ]
    }
   ],
   "source": [
    "#Выбираем среду (Выбранную среду необходимо раскомментировать)\n",
    "env_name=\"Humanoid-v2\"\n",
    "#env_name=\"Ant-v2\"\n",
    "#env_name=\"HalfCheetah-v2\"\n",
    "#env_name=\"Hopper-v2\"\n",
    "#env_name=\"Reacher-v2\"\n",
    "#env_name=\"Walker2d-v2\"  \n",
    "\n",
    "#Выберите файл стратегии эксперта из файла эксперта\n",
    "expert_policy_file=\"experts/\"+env_name+\".pkl\"\n",
    "\n",
    "#Загрузка файла стратегии\n",
    "print('loading and building expert policy')\n",
    "policy_fn = load_policy.load_policy(expert_policy_file)\n",
    "print('loaded and built')\n",
    "\n",
    "#Создание среды\n",
    "env = gym.make(env_name)\n",
    "\n",
    "data=generate_rollouts(num_rollouts=20,max_steps=100,render=False);\n",
    "x = data['observations']\n",
    "y = data['actions']\n",
    "\n",
    "x,y = shuffle(x,y)\n",
    "\n",
    "cloner=BC_Model(x,y)\n",
    "cloner.train(epochs=10)\n",
    "\n",
    "with tf.Session():\n",
    "    DAgger_iter=30\n",
    "    render=False\n",
    "    for i in range(DAgger_iter):\n",
    "        new_obs = []\n",
    "        new_actions = []\n",
    "        obs = env.reset()\n",
    "        done = False\n",
    "        while not done:\n",
    "            action = cloner.sample(obs)\n",
    "            \n",
    "            obs, _, done, _ = env.step(action)\n",
    "            if render:\n",
    "                env.render()\n",
    "            corrected_action = policy_fn(obs[None,:])\n",
    "            new_obs.append(obs)\n",
    "            new_actions.append(corrected_action)\n",
    "        x = np.concatenate((x, obs[None, :]), axis = 0)\n",
    "        y = np.concatenate((y, corrected_action[None, :]), axis = 0)\n",
    "        cloner.train(train_data=np.array([x[-1]]), test_data = np.array([y[-1]]), epochs=10)"
   ]
  },
  {
   "cell_type": "markdown",
   "metadata": {},
   "source": [
    "### Проверяем работу"
   ]
  },
  {
   "cell_type": "code",
   "execution_count": 12,
   "metadata": {},
   "outputs": [
    {
     "name": "stdout",
     "output_type": "stream",
     "text": [
      "Creating window glfw\n",
      "mean return 69.65578192600309\n",
      "std of return 0.22776015378283881\n"
     ]
    }
   ],
   "source": [
    "num_eval_rollouts=20\n",
    "returns=[]\n",
    "for i in range(num_eval_rollouts):\n",
    "    totalr=0\n",
    "    done=False\n",
    "    obs=env.reset()\n",
    "    while not done:\n",
    "        action=cloner.sample(obs)\n",
    "        obs,r,done,_=env.step(action)\n",
    "        env.render()\n",
    "        totalr+=r\n",
    "    returns.append(totalr)\n",
    "print('mean return', np.mean(returns))\n",
    "print('std of return', np.std(returns))"
   ]
  },
  {
   "cell_type": "code",
   "execution_count": 5,
   "metadata": {},
   "outputs": [
    {
     "name": "stdout",
     "output_type": "stream",
     "text": [
      "loading and building expert policy\n",
      "obs (1, 376) (1, 376)\n",
      "loaded and built\n",
      "\u001b[33mWARN: gym.spaces.Box autodetected dtype as <class 'numpy.float32'>. Please provide explicit dtype.\u001b[0m\n",
      "\u001b[33mWARN: gym.spaces.Box autodetected dtype as <class 'numpy.float32'>. Please provide explicit dtype.\u001b[0m\n",
      "mean return 641.8496954990622\n",
      "std of return 7.792251590886538\n",
      "Creating window glfw\n",
      "mean return 643.1603213540668\n",
      "std of return 9.179535641618592\n",
      "mean return 644.5983259365021\n",
      "std of return 9.809548258598147\n",
      "mean return 639.7570055208162\n",
      "std of return 7.179244826784822\n",
      "mean return 646.2378268388469\n",
      "std of return 9.488007712513161\n"
     ]
    }
   ],
   "source": [
    "#Выбираем среду (Выбранную среду необходимо раскомментировать)\n",
    "env_name=\"Humanoid-v2\"\n",
    "#env_name=\"Ant-v2\"\n",
    "#env_name=\"HalfCheetah-v2\"\n",
    "#env_name=\"Hopper-v2\"\n",
    "#env_name=\"Reacher-v2\"\n",
    "#env_name=\"Walker2d-v2\"  \n",
    "\n",
    "#Выберите файл стратегии эксперта из файла эксперта\n",
    "expert_policy_file=\"experts/\"+env_name+\".pkl\"\n",
    "\n",
    "#Загрузка файла стратегии\n",
    "print('loading and building expert policy')\n",
    "policy_fn = load_policy.load_policy(expert_policy_file)\n",
    "print('loaded and built')\n",
    "\n",
    "#Создание среды\n",
    "env = gym.make(env_name)\n",
    "\n",
    "#Инициализация списков для последующего построения графика\n",
    "list_of_totalr = list()\n",
    "list_of_epochs = [20, 40, 80, 160, 320]\n",
    "\n",
    "for epoch in list_of_epochs:\n",
    "    data=generate_rollouts(num_rollouts=20,max_steps=100,render=False);\n",
    "    x = data['observations']\n",
    "    y = data['actions']\n",
    "\n",
    "    x,y = shuffle(x,y)\n",
    "\n",
    "    cloner=BC_Model(x,y)\n",
    "    cloner.train(epochs=epoch)\n",
    "    \n",
    "    num_eval_rollouts=20\n",
    "    returns=[]\n",
    "    for i in range(num_eval_rollouts):\n",
    "        totalr=0\n",
    "        done=False\n",
    "        obs=env.reset()\n",
    "        while not done:\n",
    "            action=cloner.sample(obs)\n",
    "            obs,r,done,_=env.step(action)\n",
    "            env.render()\n",
    "            totalr+=r\n",
    "        returns.append(totalr)\n",
    "    list_of_totalr.append(np.mean(returns))\n",
    "\n",
    "x1 = list_of_epochs\n",
    "y1 = list_of_totalr"
   ]
  },
  {
   "cell_type": "code",
   "execution_count": 6,
   "metadata": {},
   "outputs": [
    {
     "name": "stdout",
     "output_type": "stream",
     "text": [
      "loading and building expert policy\n",
      "obs (1, 376) (1, 376)\n",
      "loaded and built\n",
      "\u001b[33mWARN: gym.spaces.Box autodetected dtype as <class 'numpy.float32'>. Please provide explicit dtype.\u001b[0m\n",
      "\u001b[33mWARN: gym.spaces.Box autodetected dtype as <class 'numpy.float32'>. Please provide explicit dtype.\u001b[0m\n",
      "Creating window glfw\n"
     ]
    }
   ],
   "source": [
    "#Выбираем среду (Выбранную среду необходимо раскомментировать)\n",
    "env_name=\"Humanoid-v2\"\n",
    "#env_name=\"Ant-v2\"\n",
    "#env_name=\"HalfCheetah-v2\"\n",
    "#env_name=\"Hopper-v2\"\n",
    "#env_name=\"Reacher-v2\"\n",
    "#env_name=\"Walker2d-v2\"  \n",
    "\n",
    "#Выберите файл стратегии эксперта из файла эксперта\n",
    "expert_policy_file=\"experts/\"+env_name+\".pkl\"\n",
    "\n",
    "#Загрузка файла стратегии\n",
    "print('loading and building expert policy')\n",
    "policy_fn = load_policy.load_policy(expert_policy_file)\n",
    "print('loaded and built')\n",
    "\n",
    "#Создание среды\n",
    "env = gym.make(env_name)\n",
    "\n",
    "y2 = list()\n",
    "\n",
    "with tf.Session():\n",
    "    DAgger_iter=5\n",
    "    render=False\n",
    "    # DAgger loop\n",
    "    for i in range(DAgger_iter):\n",
    "        new_obs = []\n",
    "        new_actions = []\n",
    "        obs = env.reset()\n",
    "        done = False\n",
    "        while not done:\n",
    "            action = cloner.sample(obs)\n",
    "            \n",
    "            obs, _, done, _ = env.step(action)\n",
    "            if render:\n",
    "                env.render()\n",
    "            corrected_action = policy_fn(obs[None,:])\n",
    "            new_obs.append(obs)\n",
    "            new_actions.append(corrected_action)\n",
    "        x = np.concatenate((x, obs[None, :]), axis = 0)\n",
    "        y = np.concatenate((y, corrected_action[None, :]), axis = 0)\n",
    "        cloner.train(train_data=np.array([x[-1]]), test_data = np.array([y[-1]]), epochs=5)\n",
    "        \n",
    "        num_eval_rollouts=20\n",
    "        returns=[]\n",
    "        for i in range(num_eval_rollouts):\n",
    "            totalr=0\n",
    "            done=False\n",
    "            obs=env.reset()\n",
    "            while not done:\n",
    "                action=cloner.sample(obs)\n",
    "                obs,r,done,_=env.step(action)\n",
    "                env.render()\n",
    "                totalr+=r\n",
    "            returns.append(totalr)\n",
    "        y2.append(np.mean(returns))"
   ]
  },
  {
   "cell_type": "code",
   "execution_count": 7,
   "metadata": {},
   "outputs": [
    {
     "data": {
      "text/plain": [
       "<matplotlib.legend.Legend at 0x7fe8d74d07b8>"
      ]
     },
     "execution_count": 7,
     "metadata": {},
     "output_type": "execute_result"
    },
    {
     "data": {
      "image/png": "[encoded data removed]",
      "text/plain": [
       "<Figure size 432x288 with 1 Axes>"
      ]
     },
     "metadata": {
      "needs_background": "light"
     },
     "output_type": "display_data"
    }
   ],
   "source": [
    "#Построение графиков сравнения\n",
    "plt.plot(x1, y1, 'r', label='Клонирование поведения')\n",
    "plt.plot(x1, y2, 'g', label='Метод DAgger')\n",
    "plt.title('Сравнение обучения клонированием поведения и методом DAgger в окружении Humanoid-v2')\n",
    "plt.legend()"
   ]
  },
  {
   "cell_type": "code",
   "execution_count": 8,
   "metadata": {},
   "outputs": [
    {
     "name": "stdout",
     "output_type": "stream",
     "text": [
      "loading and building expert policy\n",
      "obs (1, 111) (1, 111)\n",
      "loaded and built\n",
      "\u001b[33mWARN: gym.spaces.Box autodetected dtype as <class 'numpy.float32'>. Please provide explicit dtype.\u001b[0m\n",
      "\u001b[33mWARN: gym.spaces.Box autodetected dtype as <class 'numpy.float32'>. Please provide explicit dtype.\u001b[0m\n",
      "mean return 420.44766445586595\n",
      "std of return 22.31038179369784\n",
      "Creating window glfw\n",
      "mean return 416.070132243857\n",
      "std of return 22.64226394875749\n",
      "mean return 418.99484749545684\n",
      "std of return 28.898627790425746\n",
      "mean return 424.281372933411\n",
      "std of return 26.34871419421813\n",
      "mean return 411.9579129407804\n",
      "std of return 33.411427580576756\n"
     ]
    }
   ],
   "source": [
    "#Выбираем среду (Выбранную среду необходимо раскомментировать)\n",
    "#env_name=\"Humanoid-v2\"\n",
    "env_name=\"Ant-v2\"\n",
    "#env_name=\"HalfCheetah-v2\"\n",
    "#env_name=\"Hopper-v2\"\n",
    "#env_name=\"Reacher-v2\"\n",
    "#env_name=\"Walker2d-v2\"  \n",
    "\n",
    "#Выберите файл стратегии эксперта из файла эксперта\n",
    "expert_policy_file=\"experts/\"+env_name+\".pkl\"\n",
    "\n",
    "#Загрузка файла стратегии\n",
    "print('loading and building expert policy')\n",
    "policy_fn = load_policy.load_policy(expert_policy_file)\n",
    "print('loaded and built')\n",
    "\n",
    "#Создание среды\n",
    "env = gym.make(env_name)\n",
    "\n",
    "list_of_totalr = list()\n",
    "list_of_epochs = [20, 40, 80, 160, 320]\n",
    "\n",
    "for epoch in list_of_epochs:\n",
    "    data=generate_rollouts(num_rollouts=20,max_steps=100,render=False);\n",
    "    x = data['observations']\n",
    "    y = data['actions']\n",
    "\n",
    "    x,y = shuffle(x,y)\n",
    "\n",
    "    cloner=BC_Model(x,y)\n",
    "    cloner.train(epochs=epoch)\n",
    "    \n",
    "    num_eval_rollouts=20\n",
    "    returns=[]\n",
    "    for i in range(num_eval_rollouts):\n",
    "        totalr=0\n",
    "        done=False\n",
    "        obs=env.reset()\n",
    "        while not done:\n",
    "            action=cloner.sample(obs)\n",
    "            obs,r,done,_=env.step(action)\n",
    "            env.render()\n",
    "            totalr+=r\n",
    "        returns.append(totalr)\n",
    "    list_of_totalr.append(np.mean(returns))\n",
    "\n",
    "x1 = list_of_epochs\n",
    "y1 = list_of_totalr"
   ]
  },
  {
   "cell_type": "code",
   "execution_count": 9,
   "metadata": {},
   "outputs": [
    {
     "name": "stdout",
     "output_type": "stream",
     "text": [
      "loading and building expert policy\n",
      "obs (1, 111) (1, 111)\n",
      "loaded and built\n",
      "\u001b[33mWARN: gym.spaces.Box autodetected dtype as <class 'numpy.float32'>. Please provide explicit dtype.\u001b[0m\n",
      "\u001b[33mWARN: gym.spaces.Box autodetected dtype as <class 'numpy.float32'>. Please provide explicit dtype.\u001b[0m\n",
      "Creating window glfw\n"
     ]
    }
   ],
   "source": [
    "#Выбираем среду (Выбранную среду необходимо раскомментировать)\n",
    "#env_name=\"Humanoid-v2\"\n",
    "env_name=\"Ant-v2\"\n",
    "#env_name=\"HalfCheetah-v2\"\n",
    "#env_name=\"Hopper-v2\"\n",
    "#env_name=\"Reacher-v2\"\n",
    "#env_name=\"Walker2d-v2\"  \n",
    "\n",
    "#Выберите файл стратегии эксперта из файла эксперта\n",
    "expert_policy_file=\"experts/\"+env_name+\".pkl\"\n",
    "\n",
    "#Загрузка файла стратегии\n",
    "print('loading and building expert policy')\n",
    "policy_fn = load_policy.load_policy(expert_policy_file)\n",
    "print('loaded and built')\n",
    "\n",
    "#Создание среды\n",
    "env = gym.make(env_name)\n",
    "\n",
    "y2 = list()\n",
    "\n",
    "with tf.Session():\n",
    "    DAgger_iter=5\n",
    "    render=False\n",
    "    for i in range(DAgger_iter):\n",
    "        new_obs = []\n",
    "        new_actions = []\n",
    "        obs = env.reset()\n",
    "        done = False\n",
    "        while not done:\n",
    "            action = cloner.sample(obs)\n",
    "            \n",
    "            obs, _, done, _ = env.step(action)\n",
    "            if render:\n",
    "                env.render()\n",
    "            corrected_action = policy_fn(obs[None,:])\n",
    "            new_obs.append(obs)\n",
    "            new_actions.append(corrected_action)\n",
    "        x = np.concatenate((x, obs[None, :]), axis = 0)\n",
    "        y = np.concatenate((y, corrected_action[None, :]), axis = 0)\n",
    "        cloner.train(train_data=np.array([x[-1]]), test_data = np.array([y[-1]]), epochs=5)\n",
    "        \n",
    "        num_eval_rollouts=20\n",
    "        returns=[]\n",
    "        for i in range(num_eval_rollouts):\n",
    "            totalr=0\n",
    "            done=False\n",
    "            obs=env.reset()\n",
    "            while not done:\n",
    "                action=cloner.sample(obs)\n",
    "                obs,r,done,_=env.step(action)\n",
    "                env.render()\n",
    "                totalr+=r\n",
    "            returns.append(totalr)\n",
    "        y2.append(np.mean(returns))"
   ]
  },
  {
   "cell_type": "code",
   "execution_count": 10,
   "metadata": {},
   "outputs": [
    {
     "data": {
      "text/plain": [
       "<matplotlib.legend.Legend at 0x7fe8b9e4d4a8>"
      ]
     },
     "execution_count": 10,
     "metadata": {},
     "output_type": "execute_result"
    },
    {
     "data": {
      "image/png": "[encoded data removed]",
      "text/plain": [
       "<Figure size 432x288 with 1 Axes>"
      ]
     },
     "metadata": {
      "needs_background": "light"
     },
     "output_type": "display_data"
    }
   ],
   "source": [
    "# построение графиков сравнения\n",
    "plt.plot(x1, y1, 'r', label='Клонирование поведения')\n",
    "plt.plot(x1, y2, 'g', label='Метод DAgger')\n",
    "plt.title('Сравнение обучения клонированием поведения и методом DAgger в окружении Ant-v2')\n",
    "plt.legend()"
   ]
  },
  {
   "cell_type": "code",
   "execution_count": 4,
   "metadata": {},
   "outputs": [
    {
     "name": "stdout",
     "output_type": "stream",
     "text": [
      "loading and building expert policy\n",
      "obs (1, 17) (1, 17)\n",
      "loaded and built\n",
      "\u001b[33mWARN: gym.spaces.Box autodetected dtype as <class 'numpy.float32'>. Please provide explicit dtype.\u001b[0m\n",
      "\u001b[33mWARN: gym.spaces.Box autodetected dtype as <class 'numpy.float32'>. Please provide explicit dtype.\u001b[0m\n",
      "WARNING:tensorflow:From /home/tanya/p_35/tf_util.py:91: all_variables (from tensorflow.python.ops.variables) is deprecated and will be removed after 2017-03-02.\n",
      "Instructions for updating:\n",
      "Please use tf.global_variables instead.\n",
      "WARNING:tensorflow:From /home/tanya/p_35/lib64/python3.5/site-packages/tensorflow/python/util/tf_should_use.py:189: initialize_variables (from tensorflow.python.ops.variables) is deprecated and will be removed after 2017-03-02.\n",
      "Instructions for updating:\n",
      "Use `tf.variables_initializer` instead.\n",
      "mean return 281.5432360286359\n",
      "std of return 25.130399206151157\n",
      "Creating window glfw\n",
      "mean return 286.03387077600416\n",
      "std of return 32.76198451500585\n",
      "mean return 273.08869947582946\n",
      "std of return 24.06333848320649\n",
      "mean return 293.46128283118503\n",
      "std of return 25.577250199086016\n",
      "mean return 283.1696110702058\n",
      "std of return 26.66395695605106\n"
     ]
    }
   ],
   "source": [
    "#Выбираем среду (Выбранную среду необходимо раскомментировать)\n",
    "#env_name=\"Humanoid-v2\"\n",
    "#env_name=\"Ant-v2\"\n",
    "env_name=\"HalfCheetah-v2\"\n",
    "#env_name=\"Hopper-v2\"\n",
    "#env_name=\"Reacher-v2\"\n",
    "#env_name=\"Walker2d-v2\"  \n",
    "\n",
    "#Выберите файл стратегии эксперта из файла эксперта\n",
    "expert_policy_file=\"experts/\"+env_name+\".pkl\"\n",
    "\n",
    "#Загрузка файла стратегии\n",
    "print('loading and building expert policy')\n",
    "policy_fn = load_policy.load_policy(expert_policy_file)\n",
    "print('loaded and built')\n",
    "\n",
    "#Создание среды\n",
    "env = gym.make(env_name)\n",
    "\n",
    "list_of_totalr = list()\n",
    "list_of_epochs = [20, 40, 80, 160, 320]\n",
    "\n",
    "for epoch in list_of_epochs:\n",
    "    data=generate_rollouts(num_rollouts=20,max_steps=100,render=False);\n",
    "    x = data['observations']\n",
    "    y = data['actions']\n",
    "\n",
    "    x,y = shuffle(x,y)\n",
    "\n",
    "    cloner=BC_Model(x,y)\n",
    "    cloner.train(epochs=epoch)\n",
    "    \n",
    "    num_eval_rollouts=20\n",
    "    returns=[]\n",
    "    for i in range(num_eval_rollouts):\n",
    "        totalr=0\n",
    "        done=False\n",
    "        obs=env.reset()\n",
    "        while not done:\n",
    "            action=cloner.sample(obs)\n",
    "            obs,r,done,_=env.step(action)\n",
    "            env.render()\n",
    "            totalr+=r\n",
    "        returns.append(totalr)\n",
    "    list_of_totalr.append(np.mean(returns))\n",
    "\n",
    "x1 = list_of_epochs\n",
    "y1 = list_of_totalr"
   ]
  },
  {
   "cell_type": "code",
   "execution_count": 5,
   "metadata": {},
   "outputs": [
    {
     "name": "stdout",
     "output_type": "stream",
     "text": [
      "loading and building expert policy\n",
      "obs (1, 17) (1, 17)\n",
      "loaded and built\n",
      "\u001b[33mWARN: gym.spaces.Box autodetected dtype as <class 'numpy.float32'>. Please provide explicit dtype.\u001b[0m\n",
      "\u001b[33mWARN: gym.spaces.Box autodetected dtype as <class 'numpy.float32'>. Please provide explicit dtype.\u001b[0m\n",
      "Creating window glfw\n"
     ]
    }
   ],
   "source": [
    "#Выбираем среду (Выбранную среду необходимо раскомментировать)\n",
    "#env_name=\"Humanoid-v2\"\n",
    "#env_name=\"Ant-v2\"\n",
    "env_name=\"HalfCheetah-v2\"\n",
    "#env_name=\"Hopper-v2\"\n",
    "#env_name=\"Reacher-v2\"\n",
    "#env_name=\"Walker2d-v2\"  \n",
    "\n",
    "#Выберите файл стратегии эксперта из файла эксперта\n",
    "expert_policy_file=\"experts/\"+env_name+\".pkl\"\n",
    "\n",
    "#Загрузка файла стратегии\n",
    "print('loading and building expert policy')\n",
    "policy_fn = load_policy.load_policy(expert_policy_file)\n",
    "print('loaded and built')\n",
    "\n",
    "#Создание среды\n",
    "env = gym.make(env_name)\n",
    "\n",
    "y2 = list()\n",
    "\n",
    "with tf.Session():\n",
    "    DAgger_iter=5\n",
    "    render=False\n",
    "    for i in range(DAgger_iter):\n",
    "        new_obs = []\n",
    "        new_actions = []\n",
    "        obs = env.reset()\n",
    "        done = False\n",
    "        while not done:\n",
    "            action = cloner.sample(obs)\n",
    "            \n",
    "            obs, _, done, _ = env.step(action)\n",
    "            if render:\n",
    "                env.render()\n",
    "            corrected_action = policy_fn(obs[None,:])\n",
    "            new_obs.append(obs)\n",
    "            new_actions.append(corrected_action)\n",
    "        x = np.concatenate((x, obs[None, :]), axis = 0)\n",
    "        y = np.concatenate((y, corrected_action[None, :]), axis = 0)\n",
    "        cloner.train(train_data=np.array([x[-1]]), test_data = np.array([y[-1]]), epochs=5)\n",
    "        \n",
    "        num_eval_rollouts=20\n",
    "        returns=[]\n",
    "        for i in range(num_eval_rollouts):\n",
    "            totalr=0\n",
    "            done=False\n",
    "            obs=env.reset()\n",
    "            while not done:\n",
    "                action=cloner.sample(obs)\n",
    "                obs,r,done,_=env.step(action)\n",
    "                env.render()\n",
    "                totalr+=r\n",
    "            returns.append(totalr)\n",
    "        y2.append(np.mean(returns))"
   ]
  },
  {
   "cell_type": "code",
   "execution_count": 6,
   "metadata": {},
   "outputs": [
    {
     "data": {
      "text/plain": [
       "<matplotlib.legend.Legend at 0x7f93cdf00a20>"
      ]
     },
     "execution_count": 6,
     "metadata": {},
     "output_type": "execute_result"
    },
    {
     "data": {
      "image/png": "[encoded data removed]",
      "text/plain": [
       "<Figure size 432x288 with 1 Axes>"
      ]
     },
     "metadata": {
      "needs_background": "light"
     },
     "output_type": "display_data"
    }
   ],
   "source": [
    "# построение графиков сравнения\n",
    "plt.plot(x1, y1, 'r', label='Клонирование поведения')\n",
    "plt.plot(x1, y2, 'g', label='Метод DAgger')\n",
    "plt.title('Сравнение обучения клонированием поведения и методом DAgger в окружении HalfCheetah-v2')\n",
    "plt.legend()"
   ]
  },
  {
   "cell_type": "code",
   "execution_count": 4,
   "metadata": {},
   "outputs": [
    {
     "name": "stdout",
     "output_type": "stream",
     "text": [
      "loading and building expert policy\n",
      "obs (1, 11) (1, 11)\n",
      "loaded and built\n",
      "\u001b[33mWARN: gym.spaces.Box autodetected dtype as <class 'numpy.float32'>. Please provide explicit dtype.\u001b[0m\n",
      "\u001b[33mWARN: gym.spaces.Box autodetected dtype as <class 'numpy.float32'>. Please provide explicit dtype.\u001b[0m\n",
      "WARNING:tensorflow:From /home/tanya/p_35/tf_util.py:91: all_variables (from tensorflow.python.ops.variables) is deprecated and will be removed after 2017-03-02.\n",
      "Instructions for updating:\n",
      "Please use tf.global_variables instead.\n",
      "WARNING:tensorflow:From /home/tanya/p_35/lib64/python3.5/site-packages/tensorflow/python/util/tf_should_use.py:189: initialize_variables (from tensorflow.python.ops.variables) is deprecated and will be removed after 2017-03-02.\n",
      "Instructions for updating:\n",
      "Use `tf.variables_initializer` instead.\n",
      "mean return 228.09187696881764\n",
      "std of return 0.442518220609388\n",
      "Creating window glfw\n",
      "mean return 227.9237708968912\n",
      "std of return 0.42068226239409834\n",
      "mean return 227.7860011965427\n",
      "std of return 0.530242763964662\n",
      "mean return 227.7587383368947\n",
      "std of return 0.4593866163878783\n",
      "mean return 227.62601996208315\n",
      "std of return 0.43541743172939723\n"
     ]
    }
   ],
   "source": [
    "#Выбираем среду (Выбранную среду необходимо раскомментировать)\n",
    "#env_name=\"Humanoid-v2\"\n",
    "#env_name=\"Ant-v2\"\n",
    "#env_name=\"HalfCheetah-v2\"\n",
    "env_name=\"Hopper-v2\"\n",
    "#env_name=\"Reacher-v2\"\n",
    "#env_name=\"Walker2d-v2\"  \n",
    "\n",
    "#Выберите файл стратегии эксперта из файла эксперта\n",
    "expert_policy_file=\"experts/\"+env_name+\".pkl\"\n",
    "\n",
    "#Загрузка файла стратегии\n",
    "print('loading and building expert policy')\n",
    "policy_fn = load_policy.load_policy(expert_policy_file)\n",
    "print('loaded and built')\n",
    "\n",
    "#Создание среды\n",
    "env = gym.make(env_name)\n",
    "list_of_totalr = list()\n",
    "list_of_epochs = [20, 40, 80, 160, 320]\n",
    "\n",
    "for epoch in list_of_epochs:\n",
    "    data=generate_rollouts(num_rollouts=20,max_steps=100,render=False);\n",
    "    x = data['observations']\n",
    "    y = data['actions']\n",
    "\n",
    "    x,y = shuffle(x,y)\n",
    "\n",
    "    cloner=BC_Model(x,y)\n",
    "    cloner.train(epochs=epoch)\n",
    "    \n",
    "    num_eval_rollouts=20\n",
    "    returns=[]\n",
    "    for i in range(num_eval_rollouts):\n",
    "        totalr=0\n",
    "        done=False\n",
    "        obs=env.reset()\n",
    "        while not done:\n",
    "            action=cloner.sample(obs)\n",
    "            obs,r,done,_=env.step(action)\n",
    "            env.render()\n",
    "            totalr+=r\n",
    "        returns.append(totalr)\n",
    "    list_of_totalr.append(np.mean(returns))\n",
    "\n",
    "x1 = list_of_epochs\n",
    "y1 = list_of_totalr"
   ]
  },
  {
   "cell_type": "code",
   "execution_count": 5,
   "metadata": {},
   "outputs": [
    {
     "name": "stdout",
     "output_type": "stream",
     "text": [
      "loading and building expert policy\n",
      "obs (1, 11) (1, 11)\n",
      "loaded and built\n",
      "\u001b[33mWARN: gym.spaces.Box autodetected dtype as <class 'numpy.float32'>. Please provide explicit dtype.\u001b[0m\n",
      "\u001b[33mWARN: gym.spaces.Box autodetected dtype as <class 'numpy.float32'>. Please provide explicit dtype.\u001b[0m\n",
      "Creating window glfw\n"
     ]
    }
   ],
   "source": [
    "#Выбираем среду (Выбранную среду необходимо раскомментировать)\n",
    "#env_name=\"Humanoid-v2\"\n",
    "#env_name=\"Ant-v2\"\n",
    "#env_name=\"HalfCheetah-v2\"\n",
    "env_name=\"Hopper-v2\"\n",
    "#env_name=\"Reacher-v2\"\n",
    "#env_name=\"Walker2d-v2\"  \n",
    "\n",
    "#Выберите файл стратегии эксперта из файла эксперта\n",
    "expert_policy_file=\"experts/\"+env_name+\".pkl\"\n",
    "\n",
    "#Загрузка файла стратегии\n",
    "print('loading and building expert policy')\n",
    "policy_fn = load_policy.load_policy(expert_policy_file)\n",
    "print('loaded and built')\n",
    "\n",
    "#Создание среды\n",
    "env = gym.make(env_name)\n",
    "\n",
    "y2 = list()\n",
    "\n",
    "with tf.Session():\n",
    "    DAgger_iter=5\n",
    "    render=False\n",
    "    # DAgger loop\n",
    "    for i in range(DAgger_iter):\n",
    "        new_obs = []\n",
    "        new_actions = []\n",
    "        obs = env.reset()\n",
    "        done = False\n",
    "        while not done:\n",
    "            action = cloner.sample(obs)\n",
    "            \n",
    "            obs, _, done, _ = env.step(action)\n",
    "            if render:\n",
    "                env.render()\n",
    "            corrected_action = policy_fn(obs[None,:])\n",
    "            new_obs.append(obs)\n",
    "            new_actions.append(corrected_action)\n",
    "        x = np.concatenate((x, obs[None, :]), axis = 0)\n",
    "        y = np.concatenate((y, corrected_action[None, :]), axis = 0)\n",
    "        cloner.train(train_data=np.array([x[-1]]), test_data = np.array([y[-1]]), epochs=5)\n",
    "        \n",
    "        num_eval_rollouts=20\n",
    "        returns=[]\n",
    "        for i in range(num_eval_rollouts):\n",
    "            totalr=0\n",
    "            done=False\n",
    "            obs=env.reset()\n",
    "            while not done:\n",
    "                action=cloner.sample(obs)\n",
    "                obs,r,done,_=env.step(action)\n",
    "                env.render()\n",
    "                totalr+=r\n",
    "            returns.append(totalr)\n",
    "        y2.append(np.mean(returns))"
   ]
  },
  {
   "cell_type": "code",
   "execution_count": 6,
   "metadata": {},
   "outputs": [
    {
     "data": {
      "text/plain": [
       "<matplotlib.legend.Legend at 0x7f517e4f0240>"
      ]
     },
     "execution_count": 6,
     "metadata": {},
     "output_type": "execute_result"
    },
    {
     "data": {
      "image/png": "[encoded data removed]",
      "text/plain": [
       "<Figure size 432x288 with 1 Axes>"
      ]
     },
     "metadata": {
      "needs_background": "light"
     },
     "output_type": "display_data"
    }
   ],
   "source": [
    "# построение графиков сравнения\n",
    "plt.plot(x1, y1, 'r', label='Клонирование поведения')\n",
    "plt.plot(x1, y2, 'g', label='Метод DAgger')\n",
    "plt.title('Сравнение обучения клонированием поведения и методом DAgger в окружении Hopper-v2')\n",
    "plt.legend()"
   ]
  },
  {
   "cell_type": "code",
   "execution_count": 7,
   "metadata": {},
   "outputs": [
    {
     "name": "stdout",
     "output_type": "stream",
     "text": [
      "loading and building expert policy\n",
      "obs (1, 11) (1, 11)\n",
      "loaded and built\n",
      "\u001b[33mWARN: gym.spaces.Box autodetected dtype as <class 'numpy.float32'>. Please provide explicit dtype.\u001b[0m\n",
      "\u001b[33mWARN: gym.spaces.Box autodetected dtype as <class 'numpy.float32'>. Please provide explicit dtype.\u001b[0m\n",
      "mean return -3.94475264539748\n",
      "std of return 1.797759514148451\n",
      "Creating window glfw\n",
      "mean return -3.9172068978979064\n",
      "std of return 1.86186386251631\n",
      "mean return -3.1342594212395776\n",
      "std of return 1.5039214872879278\n",
      "mean return -3.5027785728022613\n",
      "std of return 1.906035710500871\n",
      "mean return -4.019238202536219\n",
      "std of return 1.9238721236313403\n"
     ]
    }
   ],
   "source": [
    "#Выбираем среду (Выбранную среду необходимо раскомментировать)\n",
    "#env_name=\"Humanoid-v2\"\n",
    "#env_name=\"Ant-v2\"\n",
    "#env_name=\"HalfCheetah-v2\"\n",
    "#env_name=\"Hopper-v2\"\n",
    "env_name=\"Reacher-v2\"\n",
    "#env_name=\"Walker2d-v2\"  \n",
    "\n",
    "#Выберите файл стратегии эксперта из файла эксперта\n",
    "expert_policy_file=\"experts/\"+env_name+\".pkl\"\n",
    "\n",
    "#Загрузка файла стратегии\n",
    "print('loading and building expert policy')\n",
    "policy_fn = load_policy.load_policy(expert_policy_file)\n",
    "print('loaded and built')\n",
    "\n",
    "#Создание среды\n",
    "env = gym.make(env_name)\n",
    "\n",
    "list_of_totalr = list()\n",
    "list_of_epochs = [20, 40, 80, 160, 320]\n",
    "\n",
    "for epoch in list_of_epochs:\n",
    "    data=generate_rollouts(num_rollouts=20,max_steps=100,render=False);\n",
    "    x = data['observations']\n",
    "    y = data['actions']\n",
    "\n",
    "    x,y = shuffle(x,y)\n",
    "\n",
    "    cloner=BC_Model(x,y)\n",
    "    cloner.train(epochs=epoch)\n",
    "    \n",
    "    num_eval_rollouts=20\n",
    "    returns=[]\n",
    "    for i in range(num_eval_rollouts):\n",
    "        totalr=0\n",
    "        done=False\n",
    "        obs=env.reset()\n",
    "        while not done:\n",
    "            action=cloner.sample(obs)\n",
    "            obs,r,done,_=env.step(action)\n",
    "            env.render()\n",
    "            totalr+=r\n",
    "        returns.append(totalr)\n",
    "    list_of_totalr.append(np.mean(returns))\n",
    "\n",
    "x1 = list_of_epochs\n",
    "y1 = list_of_totalr"
   ]
  },
  {
   "cell_type": "code",
   "execution_count": 8,
   "metadata": {},
   "outputs": [
    {
     "name": "stdout",
     "output_type": "stream",
     "text": [
      "loading and building expert policy\n",
      "obs (1, 11) (1, 11)\n",
      "loaded and built\n",
      "\u001b[33mWARN: gym.spaces.Box autodetected dtype as <class 'numpy.float32'>. Please provide explicit dtype.\u001b[0m\n",
      "\u001b[33mWARN: gym.spaces.Box autodetected dtype as <class 'numpy.float32'>. Please provide explicit dtype.\u001b[0m\n",
      "Creating window glfw\n"
     ]
    }
   ],
   "source": [
    "#Выбираем среду (Выбранную среду необходимо раскомментировать)\n",
    "#env_name=\"Humanoid-v2\"\n",
    "#env_name=\"Ant-v2\"\n",
    "#env_name=\"HalfCheetah-v2\"\n",
    "#env_name=\"Hopper-v2\"\n",
    "env_name=\"Reacher-v2\"\n",
    "#env_name=\"Walker2d-v2\"  \n",
    "\n",
    "#Выберите файл стратегии эксперта из файла эксперта\n",
    "expert_policy_file=\"experts/\"+env_name+\".pkl\"\n",
    "\n",
    "#Загрузка файла стратегии\n",
    "print('loading and building expert policy')\n",
    "policy_fn = load_policy.load_policy(expert_policy_file)\n",
    "print('loaded and built')\n",
    "\n",
    "#Создание среды\n",
    "env = gym.make(env_name)\n",
    "\n",
    "y2 = list()\n",
    "\n",
    "with tf.Session():\n",
    "    DAgger_iter=5\n",
    "    render=False\n",
    "    # DAgger loop\n",
    "    for i in range(DAgger_iter):\n",
    "        new_obs = []\n",
    "        new_actions = []\n",
    "        obs = env.reset()\n",
    "        done = False\n",
    "        while not done:\n",
    "            action = cloner.sample(obs)\n",
    "            \n",
    "            obs, _, done, _ = env.step(action)\n",
    "            if render:\n",
    "                env.render()\n",
    "            corrected_action = policy_fn(obs[None,:])\n",
    "            new_obs.append(obs)\n",
    "            new_actions.append(corrected_action)\n",
    "        x = np.concatenate((x, obs[None, :]), axis = 0)\n",
    "        y = np.concatenate((y, corrected_action[None, :]), axis = 0)\n",
    "        cloner.train(train_data=np.array([x[-1]]), test_data = np.array([y[-1]]), epochs=5)\n",
    "        \n",
    "        num_eval_rollouts=20\n",
    "        returns=[]\n",
    "        for i in range(num_eval_rollouts):\n",
    "            totalr=0\n",
    "            done=False\n",
    "            obs=env.reset()\n",
    "            while not done:\n",
    "                action=cloner.sample(obs)\n",
    "                obs,r,done,_=env.step(action)\n",
    "                env.render()\n",
    "                totalr+=r\n",
    "            returns.append(totalr)\n",
    "        y2.append(np.mean(returns))"
   ]
  },
  {
   "cell_type": "code",
   "execution_count": 9,
   "metadata": {},
   "outputs": [
    {
     "data": {
      "text/plain": [
       "<matplotlib.legend.Legend at 0x7f515837f7f0>"
      ]
     },
     "execution_count": 9,
     "metadata": {},
     "output_type": "execute_result"
    },
    {
     "data": {
      "image/png": "[encoded data removed]",
      "text/plain": [
       "<Figure size 432x288 with 1 Axes>"
      ]
     },
     "metadata": {
      "needs_background": "light"
     },
     "output_type": "display_data"
    }
   ],
   "source": [
    "# построение графиков сравнения\n",
    "plt.plot(x1, y1, 'r', label='Клонирование поведения')\n",
    "plt.plot(x1, y2, 'g', label='Метод DAgger')\n",
    "plt.title('Сравнение обучения клонированием поведения и методом DAgger в окружении Reacher-v2')\n",
    "plt.legend()"
   ]
  },
  {
   "cell_type": "code",
   "execution_count": 10,
   "metadata": {},
   "outputs": [
    {
     "name": "stdout",
     "output_type": "stream",
     "text": [
      "loading and building expert policy\n",
      "obs (1, 17) (1, 17)\n",
      "loaded and built\n",
      "\u001b[33mWARN: gym.spaces.Box autodetected dtype as <class 'numpy.float32'>. Please provide explicit dtype.\u001b[0m\n",
      "\u001b[33mWARN: gym.spaces.Box autodetected dtype as <class 'numpy.float32'>. Please provide explicit dtype.\u001b[0m\n",
      "mean return 221.33267329828496\n",
      "std of return 1.047502888728743\n",
      "Creating window glfw\n",
      "mean return 221.33944781454107\n",
      "std of return 1.0174521468368696\n",
      "mean return 221.43931928428796\n",
      "std of return 1.5693104206740094\n",
      "mean return 221.54872873398367\n",
      "std of return 1.418736823297045\n",
      "mean return 221.11815141126857\n",
      "std of return 0.7224561534940388\n"
     ]
    }
   ],
   "source": [
    "#Выбираем среду (Выбранную среду необходимо раскомментировать)\n",
    "#env_name=\"Humanoid-v2\"\n",
    "#env_name=\"Ant-v2\"\n",
    "#env_name=\"HalfCheetah-v2\"\n",
    "#env_name=\"Hopper-v2\"\n",
    "#env_name=\"Reacher-v2\"\n",
    "env_name=\"Walker2d-v2\"  \n",
    "\n",
    "#Выберите файл стратегии эксперта из файла эксперта\n",
    "expert_policy_file=\"experts/\"+env_name+\".pkl\"\n",
    "\n",
    "#Загрузка файла стратегии\n",
    "print('loading and building expert policy')\n",
    "policy_fn = load_policy.load_policy(expert_policy_file)\n",
    "print('loaded and built')\n",
    "\n",
    "#Создание среды\n",
    "env = gym.make(env_name)\n",
    "\n",
    "list_of_totalr = list()\n",
    "list_of_epochs = [20, 40, 80, 160, 320]\n",
    "\n",
    "for epoch in list_of_epochs:\n",
    "    data=generate_rollouts(num_rollouts=20,max_steps=100,render=False);\n",
    "    x = data['observations']\n",
    "    y = data['actions']\n",
    "\n",
    "    x,y = shuffle(x,y)\n",
    "\n",
    "    cloner=BC_Model(x,y)\n",
    "    cloner.train(epochs=epoch)\n",
    "    \n",
    "    num_eval_rollouts=20\n",
    "    returns=[]\n",
    "    for i in range(num_eval_rollouts):\n",
    "        totalr=0\n",
    "        done=False\n",
    "        obs=env.reset()\n",
    "        while not done:\n",
    "            action=cloner.sample(obs)\n",
    "            obs,r,done,_=env.step(action)\n",
    "            env.render()\n",
    "            totalr+=r\n",
    "        returns.append(totalr)\n",
    "    list_of_totalr.append(np.mean(returns))\n",
    "\n",
    "x1 = list_of_epochs\n",
    "y1 = list_of_totalr"
   ]
  },
  {
   "cell_type": "code",
   "execution_count": 11,
   "metadata": {},
   "outputs": [
    {
     "name": "stdout",
     "output_type": "stream",
     "text": [
      "loading and building expert policy\n",
      "obs (1, 17) (1, 17)\n",
      "loaded and built\n",
      "\u001b[33mWARN: gym.spaces.Box autodetected dtype as <class 'numpy.float32'>. Please provide explicit dtype.\u001b[0m\n",
      "\u001b[33mWARN: gym.spaces.Box autodetected dtype as <class 'numpy.float32'>. Please provide explicit dtype.\u001b[0m\n",
      "Creating window glfw\n"
     ]
    }
   ],
   "source": [
    "#Выбираем среду (Выбранную среду необходимо раскомментировать)\n",
    "#env_name=\"Humanoid-v2\"\n",
    "#env_name=\"Ant-v2\"\n",
    "#env_name=\"HalfCheetah-v2\"\n",
    "#env_name=\"Hopper-v2\"\n",
    "#env_name=\"Reacher-v2\"\n",
    "env_name=\"Walker2d-v2\"  \n",
    "\n",
    "#Выберите файл стратегии эксперта из файла эксперта\n",
    "expert_policy_file=\"experts/\"+env_name+\".pkl\"\n",
    "\n",
    "#Загрузка файла стратегии\n",
    "print('loading and building expert policy')\n",
    "policy_fn = load_policy.load_policy(expert_policy_file)\n",
    "print('loaded and built')\n",
    "\n",
    "#Создание среды\n",
    "env = gym.make(env_name)\n",
    "\n",
    "y2 = list()\n",
    "\n",
    "with tf.Session():\n",
    "    DAgger_iter=5\n",
    "    render=False\n",
    "    for i in range(DAgger_iter):\n",
    "        new_obs = []\n",
    "        new_actions = []\n",
    "        obs = env.reset()\n",
    "        done = False\n",
    "        while not done:\n",
    "            action = cloner.sample(obs)\n",
    "            \n",
    "            obs, _, done, _ = env.step(action)\n",
    "            if render:\n",
    "                env.render()\n",
    "            corrected_action = policy_fn(obs[None,:])\n",
    "            new_obs.append(obs)\n",
    "            new_actions.append(corrected_action)\n",
    "        x = np.concatenate((x, obs[None, :]), axis = 0)\n",
    "        y = np.concatenate((y, corrected_action[None, :]), axis = 0)\n",
    "        cloner.train(train_data=np.array([x[-1]]), test_data = np.array([y[-1]]), epochs=5)\n",
    "        \n",
    "        num_eval_rollouts=20\n",
    "        returns=[]\n",
    "        for i in range(num_eval_rollouts):\n",
    "            totalr=0\n",
    "            done=False\n",
    "            obs=env.reset()\n",
    "            while not done:\n",
    "                action=cloner.sample(obs)\n",
    "                obs,r,done,_=env.step(action)\n",
    "                env.render()\n",
    "                totalr+=r\n",
    "            returns.append(totalr)\n",
    "        y2.append(np.mean(returns))"
   ]
  },
  {
   "cell_type": "code",
   "execution_count": 12,
   "metadata": {},
   "outputs": [
    {
     "data": {
      "text/plain": [
       "<matplotlib.legend.Legend at 0x7f514d39ef98>"
      ]
     },
     "execution_count": 12,
     "metadata": {},
     "output_type": "execute_result"
    },
    {
     "data": {
      "image/png": "[encoded data removed]",
      "text/plain": [
       "<Figure size 432x288 with 1 Axes>"
      ]
     },
     "metadata": {
      "needs_background": "light"
     },
     "output_type": "display_data"
    }
   ],
   "source": [
    "# построение графиков сравнения\n",
    "plt.plot(x1, y1, 'r', label='Клонирование поведения')\n",
    "plt.plot(x1, y2, 'g', label='Метод DAgger')\n",
    "plt.title('Сравнение обучения клонированием поведения и методом DAgger в окружении Walker2d-v2')\n",
    "plt.legend()"
   ]
  },
  {
   "cell_type": "markdown",
   "metadata": {},
   "source": [
    "Для задачи Reacher-v2 видно, что с увеличением количества эпох метод DAgger будет работать лучше, чем клонирование поведения. Во всех остальных же задачах клонирование поведения справляется значительно лучше "
   ]
  }
 ],
 "metadata": {
  "kernelspec": {
   "display_name": "Python 3",
   "language": "python",
   "name": "python3"
  },
  "language_info": {
   "codemirror_mode": {
    "name": "ipython",
    "version": 3
   },
   "file_extension": ".py",
   "mimetype": "text/x-python",
   "name": "python",
   "nbconvert_exporter": "python",
   "pygments_lexer": "ipython3",
   "version": "3.7.2"
  }
 },
 "nbformat": 4,
 "nbformat_minor": 2
}
